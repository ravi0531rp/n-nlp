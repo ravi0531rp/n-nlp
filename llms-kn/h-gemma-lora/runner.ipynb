{
 "cells": [
  {
   "cell_type": "code",
   "execution_count": 2,
   "metadata": {},
   "outputs": [],
   "source": [
    "import os\n",
    "from dotenv import load_dotenv"
   ]
  },
  {
   "cell_type": "code",
   "execution_count": 4,
   "metadata": {},
   "outputs": [
    {
     "data": {
      "text/plain": [
       "True"
      ]
     },
     "execution_count": 4,
     "metadata": {},
     "output_type": "execute_result"
    }
   ],
   "source": [
    "load_dotenv()\n",
    "# os.getenv(\"GOOGLE_API_KEY\")\n",
    "# os.getenv(\"KAGGLE_USERNAME\")\n",
    "# os.getenv(\"KAGGLE_KEY\")\n",
    "\n"
   ]
  },
  {
   "cell_type": "code",
   "execution_count": 6,
   "metadata": {},
   "outputs": [],
   "source": [
    "os.getenv(\"KERAS_BACKEND\")\n",
    "os.getenv(\"XLA_PYTHON_CLIENT_MEM_FRACTION\")"
   ]
  },
  {
   "cell_type": "code",
   "execution_count": 10,
   "metadata": {},
   "outputs": [],
   "source": [
    "os.environ[\"KERAS_BACKEND\"] = \"jax\"  # Or \"torch\" or \"tensorflow\".\n",
    "# Avoid memory fragmentation on JAX backend.\n",
    "os.environ[\"XLA_PYTHON_CLIENT_MEM_FRACTION\"]=\"1.00\""
   ]
  },
  {
   "cell_type": "code",
   "execution_count": 11,
   "metadata": {},
   "outputs": [],
   "source": [
    "import keras\n",
    "import keras_nlp"
   ]
  },
  {
   "cell_type": "markdown",
   "metadata": {},
   "source": [
    "## Load Data"
   ]
  },
  {
   "cell_type": "code",
   "execution_count": 12,
   "metadata": {},
   "outputs": [
    {
     "name": "stdout",
     "output_type": "stream",
     "text": [
      "--2024-04-25 03:32:15--  https://huggingface.co/datasets/databricks/databricks-dolly-15k/resolve/main/databricks-dolly-15k.jsonl\n",
      "Resolving huggingface.co (huggingface.co)... 2600:9000:2354:1600:17:b174:6d00:93a1, 2600:9000:2354:8800:17:b174:6d00:93a1, 2600:9000:2354:1400:17:b174:6d00:93a1, ...\n",
      "Connecting to huggingface.co (huggingface.co)|2600:9000:2354:1600:17:b174:6d00:93a1|:443... connected.\n",
      "HTTP request sent, awaiting response... 302 Found\n",
      "Location: https://cdn-lfs.huggingface.co/repos/34/ac/34ac588cc580830664f592597bb6d19d61639eca33dc2d6bb0b6d833f7bfd552/2df9083338b4abd6bceb5635764dab5d833b393b55759dffb0959b6fcbf794ec?response-content-disposition=attachment%3B+filename*%3DUTF-8%27%27databricks-dolly-15k.jsonl%3B+filename%3D%22databricks-dolly-15k.jsonl%22%3B&Expires=1714255335&Policy=eyJTdGF0ZW1lbnQiOlt7IkNvbmRpdGlvbiI6eyJEYXRlTGVzc1RoYW4iOnsiQVdTOkVwb2NoVGltZSI6MTcxNDI1NTMzNX19LCJSZXNvdXJjZSI6Imh0dHBzOi8vY2RuLWxmcy5odWdnaW5nZmFjZS5jby9yZXBvcy8zNC9hYy8zNGFjNTg4Y2M1ODA4MzA2NjRmNTkyNTk3YmI2ZDE5ZDYxNjM5ZWNhMzNkYzJkNmJiMGI2ZDgzM2Y3YmZkNTUyLzJkZjkwODMzMzhiNGFiZDZiY2ViNTYzNTc2NGRhYjVkODMzYjM5M2I1NTc1OWRmZmIwOTU5YjZmY2JmNzk0ZWM%7EcmVzcG9uc2UtY29udGVudC1kaXNwb3NpdGlvbj0qIn1dfQ__&Signature=mrJgcwYiIM93S4ryIKA6Xjz037ixtfyhXh-qo8Q92SmzHy38ncEMiChlij6yoCw4oVUDmAoRHhqFsYeLl7yTYEKo5cS6ose4K4-sj9JCmkRV-M-K4G206o0AzWvSYtybvSSVOlhU0ZVOv4jPtGF7z%7EKWiKTaOAXhxUQTtq0lHEEh%7E57AZjE-USWVbnjsoNveE%7EHlQwEqGBaXs3CLz8RbKmgWBxae8h9-i1cZ5LPqkIin8U19FybqxIq%7EKha4bw2q7n7mFqv7SDxKfr0AXzfxKxQxHmIXqvr1%7EzViR5SUHbVJ1hqroiOMGtrvteP5jBUspB89wF%7Eoxl%7ED1f%7EWAdCd2g__&Key-Pair-Id=KVTP0A1DKRTAX [following]\n",
      "--2024-04-25 03:32:15--  https://cdn-lfs.huggingface.co/repos/34/ac/34ac588cc580830664f592597bb6d19d61639eca33dc2d6bb0b6d833f7bfd552/2df9083338b4abd6bceb5635764dab5d833b393b55759dffb0959b6fcbf794ec?response-content-disposition=attachment%3B+filename*%3DUTF-8%27%27databricks-dolly-15k.jsonl%3B+filename%3D%22databricks-dolly-15k.jsonl%22%3B&Expires=1714255335&Policy=eyJTdGF0ZW1lbnQiOlt7IkNvbmRpdGlvbiI6eyJEYXRlTGVzc1RoYW4iOnsiQVdTOkVwb2NoVGltZSI6MTcxNDI1NTMzNX19LCJSZXNvdXJjZSI6Imh0dHBzOi8vY2RuLWxmcy5odWdnaW5nZmFjZS5jby9yZXBvcy8zNC9hYy8zNGFjNTg4Y2M1ODA4MzA2NjRmNTkyNTk3YmI2ZDE5ZDYxNjM5ZWNhMzNkYzJkNmJiMGI2ZDgzM2Y3YmZkNTUyLzJkZjkwODMzMzhiNGFiZDZiY2ViNTYzNTc2NGRhYjVkODMzYjM5M2I1NTc1OWRmZmIwOTU5YjZmY2JmNzk0ZWM%7EcmVzcG9uc2UtY29udGVudC1kaXNwb3NpdGlvbj0qIn1dfQ__&Signature=mrJgcwYiIM93S4ryIKA6Xjz037ixtfyhXh-qo8Q92SmzHy38ncEMiChlij6yoCw4oVUDmAoRHhqFsYeLl7yTYEKo5cS6ose4K4-sj9JCmkRV-M-K4G206o0AzWvSYtybvSSVOlhU0ZVOv4jPtGF7z%7EKWiKTaOAXhxUQTtq0lHEEh%7E57AZjE-USWVbnjsoNveE%7EHlQwEqGBaXs3CLz8RbKmgWBxae8h9-i1cZ5LPqkIin8U19FybqxIq%7EKha4bw2q7n7mFqv7SDxKfr0AXzfxKxQxHmIXqvr1%7EzViR5SUHbVJ1hqroiOMGtrvteP5jBUspB89wF%7Eoxl%7ED1f%7EWAdCd2g__&Key-Pair-Id=KVTP0A1DKRTAX\n",
      "Resolving cdn-lfs.huggingface.co (cdn-lfs.huggingface.co)... 2600:9000:2579:2400:11:f807:5180:93a1, 2600:9000:2579:c200:11:f807:5180:93a1, 2600:9000:2579:6600:11:f807:5180:93a1, ...\n",
      "Connecting to cdn-lfs.huggingface.co (cdn-lfs.huggingface.co)|2600:9000:2579:2400:11:f807:5180:93a1|:443... connected.\n",
      "HTTP request sent, awaiting response... 200 OK\n",
      "Length: 13085339 (12M) [text/plain]\n",
      "Saving to: ‘databricks-dolly-15k.jsonl’\n",
      "\n",
      "databricks-dolly-15 100%[===================>]  12.48M  5.70MB/s    in 2.2s    \n",
      "\n",
      "2024-04-25 03:32:19 (5.70 MB/s) - ‘databricks-dolly-15k.jsonl’ saved [13085339/13085339]\n",
      "\n"
     ]
    }
   ],
   "source": [
    "!wget -O databricks-dolly-15k.jsonl https://huggingface.co/datasets/databricks/databricks-dolly-15k/resolve/main/databricks-dolly-15k.jsonl"
   ]
  },
  {
   "cell_type": "code",
   "execution_count": 13,
   "metadata": {},
   "outputs": [],
   "source": [
    "import json\n",
    "data = []\n",
    "with open(\"databricks-dolly-15k.jsonl\") as file:\n",
    "    for line in file:\n",
    "        features = json.loads(line)\n",
    "        # Filter out examples with context, to keep it simple.\n",
    "        if features[\"context\"]:\n",
    "            continue\n",
    "        # Format the entire example as a single string.\n",
    "        template = \"Instruction:\\n{instruction}\\n\\nResponse:\\n{response}\"\n",
    "        data.append(template.format(**features))\n",
    "\n",
    "# Only use 100 training examples, to keep it fast.\n",
    "data = data[:100]"
   ]
  },
  {
   "cell_type": "code",
   "execution_count": 14,
   "metadata": {},
   "outputs": [
    {
     "data": {
      "text/plain": [
       "['Instruction:\\nWhich is a species of fish? Tope or Rope\\n\\nResponse:\\nTope',\n",
       " 'Instruction:\\nWhy can camels survive for long without water?\\n\\nResponse:\\nCamels use the fat in their humps to keep them filled with energy and hydration for long periods of time.',\n",
       " \"Instruction:\\nAlice's parents have three daughters: Amy, Jessy, and what’s the name of the third daughter?\\n\\nResponse:\\nThe name of the third daughter is Alice\",\n",
       " 'Instruction:\\nWho gave the UN the land in NY to build their HQ\\n\\nResponse:\\nJohn D Rockerfeller',\n",
       " 'Instruction:\\nWhy mobile is bad for human\\n\\nResponse:\\nWe are always engaged one phone which is not good.',\n",
       " 'Instruction:\\nWhat is a polygon?\\n\\nResponse:\\nA polygon is a form in Geometry.  It is a single dimensional plane made of connecting lines and any number of vertices.  It is a closed chain of connected line segments or edges.  The vertices of the polygon are formed where two edges meet.  Examples of polygons are hexagons, pentagons, and octagons.  Any plane that does not contain edges or vertices is not a polygon.  An example of a non-polygon is a circle.',\n",
       " 'Instruction:\\nHow do I start running?\\n\\nResponse:\\nMake sure you get comfortable running shoes and attire. Start with achievable goal in mind like a 5K race. If you never ran before, start gradually from a walk, to brisk walk, light jog aiming for 15-30mins initially. Slowly increase your running time and distance as your fitness level improves. One of the most important things is cool down and gentle stretching. Always listen to your body, and take rest days when needed to prevent injury.',\n",
       " 'Instruction:\\nWhich episodes of season four of Game of Thrones did Michelle MacLaren direct?\\n\\nResponse:\\nShe directed \"Oathkeeper\" and \"First of His Name\" the fourth and fifth episodes of season four, respectively.',\n",
       " 'Instruction:\\nWhat are some unique curtain tie backs that you can make yourself?\\n\\nResponse:\\nThere are many items you can use to make a curtain tie back. Some ideas for this include a chain, a circle and pin, jute rope, wooden beaded rope, a necklack or bracelet, a door knob, a length of a leather belt, macrame rope, or a string of artificial flowers.',\n",
       " 'Instruction:\\nIdentify which instrument is string or percussion: Cantaro, Gudok\\n\\nResponse:\\nGudok is string, Cantaro is percussion.',\n",
       " 'Instruction:\\nGive me the top 5 golf equipment company names.\\n\\nResponse:\\nTitleist, Taylormade, Callaway, Ping, Cobra',\n",
       " 'Instruction:\\nWhat individual has won the most Olympic gold medals in the history of the games?\\n\\nResponse:\\nMichael Phelps has won the most gold medals of all time with 23 golds.',\n",
       " 'Instruction:\\nWhich Dutch artist painted “Girl with a Pearl Earring”?\\n\\nResponse:\\nVermeer',\n",
       " 'Instruction:\\nWhat happens when the sun goes down?\\n\\nResponse:\\nWhen the sun sets, the evening starts.',\n",
       " 'Instruction:\\nWhat is a verb?\\n\\nResponse:\\nA verb is an action word that describes an activity.  Examples of verbs are the following: swimming, hiking, biking, roller skating, or skydiving.  All of these single and combination word examples are tied to an activity that any living thing can do.  For example, a dog can bike ride with a human when the human is pedaling the bike.  Verb use is not limited to humans or people only but applies to all living things.',\n",
       " 'Instruction:\\nWhich of the following is useful for transportation: a glass of wine, a lamp, a train, an iced cube tray, a plane, a bicycle, an apple and a scooter.\\n\\nResponse:\\nThe useful objects for transportation in the list are train, plane, bicyle and scooter.',\n",
       " 'Instruction:\\nIdentify which instrument is string or woodwind: Panduri, Zurna\\n\\nResponse:\\nZurna is woodwind, Panduri is string.',\n",
       " 'Instruction:\\nWho became king of Holland in 1806?\\n\\nResponse:\\nWilliam I of the Netherlands became king of Holland in 1806.',\n",
       " 'Instruction:\\nWhat is best Playstation or Xbox\\n\\nResponse:\\nPlaystation and Xbox are two competing game consoles, where which is \"best\" will depend on the preferences of the gamer.  From a graphics and performance perspective they are comparable, with Sony\\'s Playstation technically leading, though most gamers would be unlikely to notice a significant difference.  From a game library perspective, both consoles have their respective first-party titles that appeal to different demographics.  For example, Microsoft has seen great popularity due to popular title Halo being exclusively available on the console.  On the other hand, Playstation has popular exclusive titles such as God of War and Gran Turismo.  Ultimately the decision of which console is best will likely come down to which games titles the purchaser prefers.',\n",
       " 'Instruction:\\nWho played Billy the Kid in The Left Handed Gun\\n\\nResponse:\\nPaul Newman',\n",
       " 'Instruction:\\nwhy did Syd Barrett left the Pink Floyd?\\n\\nResponse:\\nSyd Barrett was one of the main members of the Pink Floyd. He has used drugs a lot and after a while he was not able to perform with the team. Even though the band gave him multiple chances, he could not keep up with the band. In the end, they had to ask him to leave the band. The main reason that he has left the team is his health problems and addiction to drugs.',\n",
       " 'Instruction:\\nwhat is REST API\\n\\nResponse:\\nREST API is an architectural style for building network APIs. In practice, most REST APIs are using JSON over HTTP. REST APIs have several properties that make them very popular.\\n\\nHTTP is the foundational and the most popular network protocol across the internet. By using HTTP, REST APIs can fully utilize the internet infrastructure, which greatly reduce the complexity and operational costs. For example, using HTTPS for transport security, and using URL for request routing.\\n\\nJSON is a simple, stable, and intuitive data format , which is not expected to change ever. This offers great ease of use and stability to REST APIs. For high performance applications, binary formats can be used instead, such as protobuf or thrift.\\n\\nREST APIs are often designed as CRUD APIs, where API operations are commonly expressed as Create, Retrieve, Update, and Delete operations on resources. CRUD operations are naturally mapped to HTTP methods (POST, GET, PUT/PATCH, and DELETE), and API resources can be naturally identified using URLs.',\n",
       " 'Instruction:\\nWhat is underwriting?\\n\\nResponse:\\nUnderwriting (UW) services are provided by some large financial institutions, such as banks, insurance companies and investment houses, whereby they guarantee payment in case of damage or financial loss and accept the financial risk for liability arising from such guarantee. An underwriting arrangement may be created in a number of situations including insurance, issues of security in a public offering, and bank lending, among others. The person or institution that agrees to sell a minimum number of securities of the company for commission is called the underwriter.\\n\\nThe term \"underwriting\" derives from the Lloyd\\'s of London insurance market. Financial backers (or risk takers), who would accept some of the risk on a given venture (historically a sea voyage with associated risks of shipwreck) in exchange for a premium, would literally write their names under the risk information that was written on a Lloyd\\'s slip created for this purpose.',\n",
       " 'Instruction:\\nGive me a list of some characteristics of a good coffee shop?\\n\\nResponse:\\nSome characteristics of good coffee shops include:\\n- Very good coffee, either freshly roasted locally or acquired from a quality roaster\\n- High end coffee grinders, brewing machines, and a high quality espresso machine and well-trained baristas\\n- Different coffee roast options (i.e. medium roast, dark roast) and brewing methods (i.e. drip coffee and pour-over) available\\n- A variety of cafe fare, such as pastries and croissants, available for purchase to accompany coffee\\n- Ample seating, with power outlets available by most seats.',\n",
       " 'Instruction:\\nWho saved Andromeda from the sea monster\\n\\nResponse:\\nPerseus',\n",
       " 'Instruction:\\nHow can I contribute to Spark?\\n\\nResponse:\\nYes, Spark is an open source project and anyone can contribute to it.',\n",
       " 'Instruction:\\nWho are \\'\\'The Lumières\" ?\\n\\nResponse:\\nThe Lumières (literally in English: The Lights) was a cultural, philosophical, literary and intellectual movement beginning in the second half of the 17th century, originating in western Europe and spreading throughout the rest of Europe. It included philosophers such as Baruch Spinoza, David Hume, John Locke, Edward Gibbon, Voltaire, Jean-Jacques Rousseau, Denis Diderot, Pierre Bayle and Isaac Newton. This movement is influenced by the scientific revolution in southern Europe arising directly from the Italian renaissance with people like Galileo Galilei. Over time it came to mean the Siècle des Lumières, in English the Age of Enlightenment.[Note 1]\\n\\nMembers of the movement saw themselves as a progressive élite, and battled against religious and political persecution, fighting against what they saw as the irrationality, arbitrariness, obscurantism and superstition of the previous centuries. They redefined the study of knowledge to fit the ethics and aesthetics of their time. Their works had great influence at the end of the 18th century, in the American Declaration of Independence and the French Revolution.\\n\\nThis intellectual and cultural renewal by the Lumières movement was, in its strictest sense, limited to Europe. These ideas were well understood in Europe, but beyond France the idea of \"enlightenment\" had generally meant a light from outside, whereas in France it meant a light coming from within oneself.\\n\\nIn the most general terms, in science and philosophy, the Enlightenment aimed for the triumph of reason over faith and belief; in politics and economics, the triumph of the bourgeois over nobility and clergy.',\n",
       " 'Instruction:\\nWhen was the wheel invented?\\n\\nResponse:\\nNo one knows when the wheel was first made. Archaeological evidence seems to show that the wheel was first used to make pottery in Mesopotamia about 7,000 years ago, during the Neolithic period. Later, it was used to make chariots. Chariot wheels have been found in Sumer as early as 3000 BC. The wheel is one of the most important inventions in human history. It was very useful for making pottery and getting around on land. It is also a key part of machines.',\n",
       " 'Instruction:\\nwrite a scene between two actors discussing movie Inception\\n\\nResponse:\\nActress 1: \"Oh my god, have you seen Inception?\"\\n\\nActor 2: \"Yes! That movie blew my mind. What did you think of it?\"\\n\\nActress 1: \"Honestly, I was so confused for most of it. But it was so interesting, I couldn\\'t look away. I had to know what was going on.\"\\n\\nActor 2: \"That\\'s exactly how I felt. It\\'s one of those movies that you have to pay attention to every detail, or you\\'ll get lost.\"\\n\\nActress 1: \"Absolutely. And the way they played with time and reality was so cool. I don\\'t think I\\'ve ever seen a movie like that before.\"\\n\\nActor 2: \"Yeah, the concept of entering someone\\'s dreams to implant an idea was mind-boggling. And the way they executed it was so well done.\"\\n\\nActress 1: \"It was. And the cast was amazing too. Leonardo DiCaprio was incredible as usual, and I loved seeing Ellen Page in a different type of role.\"\\n\\nActor 2: \"Definitely. And the action scenes were so intense. The zero-gravity hallway fight was insane.\"\\n\\nActress 1: \"Oh my god, yes. I was on the edge of my seat for that one. And the ending...I still can\\'t decide what it means.\"\\n\\nActor 2: \"I know, right? It\\'s one of those movies that leaves you with so many questions. But that\\'s part of what makes it so great.\"\\n\\nActress 1: \"Exactly. I love when movies challenge me to think and leave me wanting more. Inception definitely did that.\"\\n\\nActor 2: \"Agreed. It\\'s definitely one of my all-time favorites. I could watch it a hundred times and still discover something new.\"\\n\\nActress 1: \"Same here. It\\'s just one of those movies that sticks with you long after it\\'s over.\"',\n",
       " 'Instruction:\\nDid dinosaurs have lips?\\n\\nResponse:\\nRecent research suggests that the popular perception that dinosaurs had exposed teeth may be incorrect, and the current hypothesis is that the Tyrannosaurus rex did indeed have lips. A 2023 study by Dr Mark Witton of the University of Portsmouth said popular depictions of dinosaurs in movies like Jurassic Park are out of date. The study examined a large tooth that had spent over 500 days in the mouth of a Tyrannosaurus rex with no evidence of substantial wear, which is consistent with all findings of teeth found in the theropod family of dinosaurs. When contrasted with alligators and crocodiles, who have no lips and have more easily damaged teeth the theory says the evidence points to theropods, including Tyrannosaurus rex did indeed have lips. There would have been expected to be wear on the thin enamel on the teeth far more consistent with modern animals like crocodiles if dinosaurs had no lips.',\n",
       " 'Instruction:\\nAre lilies safe for cats?\\n\\nResponse:\\nNo, lilies are toxic to cats if consumed and should not be kept in a household with cats',\n",
       " \"Instruction:\\nWhat is Sunshine Recession?\\n\\nResponse:\\nIt is known as the deepest period in which sunspots are not virtually visible. Deepest period is related to sun cycle's process called solar minimum\",\n",
       " 'Instruction:\\nWhat is the currency in use in the Netherlands?\\n\\nResponse:\\nThe currency in use in the Netherlands is the euro.',\n",
       " 'Instruction:\\nWhat is the best tv series in the world\\n\\nResponse:\\nDexter- The Dexter is so exciting to watch that it should be the best TV series in the world',\n",
       " \"Instruction:\\nThink of some family rules to promote a healthy family relationship\\n\\nResponse:\\nUse Kind words\\nBe grateful\\nThink of others before yourself\\nWork hard\\nBe Honest\\nBe thankful\\nKeep your promises\\nChoose to be happy\\nAlways say 'I Love You'\\nBe kind\\nEncourage each other\",\n",
       " 'Instruction:\\nIn the series A Song of Ice and Fire, who is the founder of House Karstark?\\n\\nResponse:\\nKarlon Stark',\n",
       " \"Instruction:\\nWhat is enriched air and why would divers dive with enriched air?\\n\\nResponse:\\nEnriched air, also known as nitrox, is one kind of air with more than 21% oxygen. 21% oxygen is the normal air we breathe on the earth. The primary benefit of using enriched air is to extend the diver's bottom time, and reduce the need to push to no decompression limit. This advantage is really beneficial in deeper diving. \\nFor example, at 80 feet of depth, normal air can last around 30 min, while enriched air of 32% oxygen can last for 45 min and 36% can last for 55 min. \\nWhile enriched air is really beneficial in extending bottom time, it is important that divers get trained to use it before diving with enriched air.\",\n",
       " 'Instruction:\\nWhat film won the 1943 Oscar as best film\\n\\nResponse:\\nCasablanca',\n",
       " 'Instruction:\\nwhich weighs more, cold or hot water?\\n\\nResponse:\\nCold water weighs more than hot water',\n",
       " \"Instruction:\\nWrite a short paragraph about why you should not have both a pet cat and a pet bird.\\n\\nResponse:\\nHaving both a pet bird and a pet cat is not a good idea because cats will try to hunt birds, which are naturally the prey of cats. This hunting instinct is completely normal, and it isn't fair to the cat to try to train it not to attack birds, as it is simply in its nature to do so. However, letting a cat hunt your pet bird is similarly not humane, as it will be very stressful to the bird and could lead to the bird being injured. Larger birds are also not a good idea, as the bird could cause injury to the cat if the cat tries to attack it. Overall, it just isn't a good idea to have both cats and birds, since they tend not to coexist well, and pet owners should just pick one species to have.\",\n",
       " \"Instruction:\\nWhat is your favorite strip from the comic Calvin and Hobbes?\\n\\nResponse:\\nCalvin and Hobbes is an iconic strip that is regarded as one of the best comic strips in history. Individual preferences may vary and it's difficult to find the publishing rate of individual strips throughout its ten year syndication.\",\n",
       " 'Instruction:\\nWhat makes a formula one car so fast?\\n\\nResponse:\\nFormula One cars are one of the fastest racing cars in the world reaching speeds as high as 240 mph.\\n\\nThere are many aspects that make formula one cars fast, below are the top few\\n\\n1. Engine:  F1 cars have extremely powerful engines that can generate around 1000 bhp at up to 20,000 rpm\\n2. Power-to-Weight ratio: F1 cars are also extremely light at around 800 kgs giving them a power-to-weight ratio of 12000-1400 hp/ton. For comparison, the best Porsche cars have a power-to-weight ratio of only 300-400 hp/ton.\\n2. Aerodynamics: F1 cars are fitted with extremely sophisticated aerodynamics including a rear wing, front wing and body parts that help reduce aerodynamic drag for straight-line speeds while adding downforce to help around corners\\n3. Tires: F1 tires are extremely large and sticky. This help the cars stick to the road as the car goes through turns very fast.\\n4. Brakes: Lastly F1 brakes are very powerful and can slow down a car extremely quickly. This allows F1 cars to be at top speed for much longer before needing to slow down for taking a turn.',\n",
       " 'Instruction:\\nWhat is LAPR?\\n\\nResponse:\\nThis stands for life assurance premium relief. Before 14 March 1984 there was tax relief on life insurance premiums paid by policyholders for policies which qualified for tax relief. Policies which started',\n",
       " 'Instruction:\\nIs beauty objective or subjective?\\n\\nResponse:\\nThe opinions on this question vary from person to person. \\nStatistically, a pattern of preference is easily visible on what people would describe as beautiful. An evident example of this phenomenon is a beauty standard for women and men. Society seems to agree on what features, both physical and internal, can deem a person beautiful. The standard of beauty is also projected beyond humans, onto animal breeds, for example, in cat shows. \\nA link between beauty and how closely it resembles perfection appears to exist. For example, a rose with many petals and no tears or scratches is generally seen as more beautiful than one with fewer, visibly ruined petals. \\nHowever, the question of perfection also raises a problem as it is difficult and arguably impossible to define perfection. Beauty does not necessarily mean perfection. For example, large eyes are statistically considered to be more attractive however, in terms of their biological  purpose they possess no superiority to small eyes. Therefore, both beauty and perfection depend on the perspective or purpose with which you observe an object.\\n\\nFurthermore, the clear fluctuations through centuries and cultures on what is considered to be beautiful should also be taken into account. Fashion trends and art styles, for instance,  are constantly changing. Additionally, the diversity in opinions suggests there is nothing that is considered beautiful by everyone, so even if the majority deem a particular object or thing as beautiful, it’s beauty remains subjective because it remains based on an ever-changing preference rather than objective truth.',\n",
       " 'Instruction:\\nIdentify which instrument is string or percussion: Kpanlogo, Shamisen\\n\\nResponse:\\nShamisen is string, Kpanlogo is percussion.',\n",
       " 'Instruction:\\nWhy do potato chip bags become stale after opening?\\n\\nResponse:\\nPotato chip bags are filled with nitrogen! Many consumers think the chip companies are out there to get your money by filling three quarters of your bag with air, but it’s actually nitrogen to keep your chips fresh. This is why once you open the bag, you should finish the chips as soon as possible. There, now you have a reason to finish the whole bag of chips in one go without feeling guilty.',\n",
       " 'Instruction:\\nClassify each of the following as a primary color or a secondary color\\n\\nResponse:\\nblue, yellow, green, red, purple, orange',\n",
       " 'Instruction:\\nWhat is the future for human?\\n\\nResponse:\\nThis is a very wide open question. It could be two directions. One direction is that human would just disappear like the dinosaur.  One direction is that human would become a species like a god. For the first direction, it may be caused by many situations. e.g. Nuclear war from WW3, extreme climate change. For the other direction, reproduced energy is ready, all cancers can be cured, everything can be done with robot with AI, human life is unlimited.',\n",
       " 'Instruction:\\nName some of the bravolebrities from Vanderpump Rules\\n\\nResponse:\\nJames Kennedy, Katie Maloney, Raquel Leviss, Tom Sandoval, Ariana Madix, Tom Schwartz and Lala Kent',\n",
       " 'Instruction:\\nName some famous rock bands from the 1960s\\n\\nResponse:\\nThe 1960s had a number of famous rock bands including The Beatles, The Beach Boys, The Doors, The Rolling Stones, The Who, Led Zeppelin, The Grateful Dead, Pink Floyd, and many more.',\n",
       " \"Instruction:\\nWho invented the telephone?\\n\\nResponse:\\nIn 1876, Alexander Graham Bell was the first to obtain a United States patent for a device that produced a clearly intelligible replica of the human voice on a second device.\\nA resolution passed by the United States House of Representatives on June 11, 2002 called for recognition of Antonio Meucci's work and contributions towards the invention of the telephone.\",\n",
       " \"Instruction:\\nGive me five ways in which I can make my homebrew beer more interesting\\n\\nResponse:\\nThere are infinite ways to create interesting flavours, that are either personal favourites or attempt to replicate classic beers and beer styles. There are a number of factors that make up a beers flavour profile and part of the enjoyment brewing your own beer at home, is that you can play around with each of these to change the flavour and character of your homebrew beer. Here are five ways in which you can change your own homebrew recipe to add interesting flavours or alternatively you can alter an existing homebrew recipe shared by somebody else or a brewery.\\n\\n1. Use different hops\\nThere is a huge variety of hops available to homebrewers and each of these can introduce its own particular flavour and aroma to your beer, ranging from pineapple and apricots, to pine trees and woods, to grapefruit pith and lemon zest. By using a different hop in your recipe either from the same family or from an entirely different family of hops, you can easily add interesting and often radical changes to the flavour profile of your beer. However, depending on when the hops are added in the brewing process, you can also increase/decrease the levels of bitterness of your beer, due to different hop varieties having different levels of alpha acids.\\n\\n2. Use a different yeast\\nBesides fermenting the beer, yeast leave behind lots of interesting flavours and can give your homebrew it's own subtle character. For example, English yeast strains can add malty and sweet flavours, California yeast tends to create a clean and crisp beer, whilst saison yeast adds bright and fruity flavours to your beer.\\n\\n3. Use different grains\\nChanging the amount of base malts can increase or decrease the alcohol in your finished beer. Trying swapping one base malt for another, like American pale malts for a British variety, and look for the subtle differences between them. You can also play around with the specialty grains, like using a slightly darker roast.\\n\\n4. Add fruit, spices or herbs\\nFruits, spices, herbs, and other ingredients are a great way to add an entirely personal character to your homebrew. Anything from fresh strawberries and basil to vanilla beans and cardamom can really complement the other malty, hoppy flavours in a beer. \\n\\n5. Alter your water profile\\nDifferent beer styles will typically be best achieved with a suitable water profile, with different levels of minerals to achieve the desired flavour profile. By adjusting the amounts of specific minerals found in your brewing water, beer can be made to taste fuller bodied, sweeter, drier, more bitter, or even sour.\",\n",
       " 'Instruction:\\nHow many Grammy Awards has Bad Bunny won?\\n\\nResponse:\\nBad Bunny has won 2 Grammy Awards and has been nominated for 6',\n",
       " 'Instruction:\\nWhich of these are rappers? Eminem, Michael Jackson, Rihanna, 50 Cent\\n\\nResponse:\\nEminem, 50 Cent',\n",
       " 'Instruction:\\nWhat are some kinds of embroidery stitches for writing letters?\\n\\nResponse:\\nSome embroidery stitches that can be used to embroider letters are the back stitch, the split stitch, the stem stitch, the chain stitch, the couching stitch, and the satin stitch.',\n",
       " 'Instruction:\\nWhat is a kite?\\n\\nResponse:\\nA kite is a toy that can be be purchased in a store or a specialty shop.  It is a craft that is lighter an air that is tied to a string that you can fly on wind currents.  The kite has wings that react against the air to create lift enabling it to fly.  You can fly a kite at a park or an open area, and you will want to make sure there are no power lines nearby to be safe when flying the kite.',\n",
       " 'Instruction:\\nClassify each of the following pieces of equipment according to the sport they are used for, either basketball, football, or soccer: shin guards, shooting sleeve, penalty flag, corner flag, kicking tee, and goalie gloves.\\n\\nResponse:\\nThe classification is as follows:\\n- Soccer: goalie gloves, corner flag\\n- Basketball: shooting sleeve\\n- Football: penalty flag, kicking tee',\n",
       " 'Instruction:\\nWhat is a good way to get around without a car?\\n\\nResponse:\\nIf you live in a city you can access public transport such as buses and trains. You can also walk, use a bicycle, or electric scooter to get around.',\n",
       " 'Instruction:\\nIdentify which animal species is alive or extinct: Palaeophis, Giant Tortoise\\n\\nResponse:\\nGiant Tortoise is alive, Palaeophis is extinct.',\n",
       " 'Instruction:\\nWhy is Santa Cruz, California a great place to live?\\n\\nResponse:\\nSanta Cruz, California has one of the best climates in the continental U.S. – being close to the Pacific Ocean, temperatures stay warmer in the winters and cooler in the summers, but without the dreaded fog that nearby cities like San Francisco or Monterey experience. The small city is world-famous for surfing, and the relaxed vibe that comes with it. Natural beauty is abundant, with the mountains and beach only a few miles apart.',\n",
       " 'Instruction:\\nGive me some ideas to manage my manager.\\n\\nResponse:\\n1. Be honest\\n2. Communicate\\n3. Understand goals\\n4. Stay calm\\n5. Solve problems\\n6. Be positive\\n7. Share your knowledge\\n8. Be caring\\n9. Practice positive reinforcement\\n10. Be a strong performer',\n",
       " 'Instruction:\\nIdentify which instrument is string or percussion: Samphor, Viola toeria\\n\\nResponse:\\nViola toeria is string, Samphor is percussion.',\n",
       " 'Instruction:\\nIf we were playing a game where we had to identify things that can be found inside a house, which of these would we call out: car, chair, table, park, cloud, microwave.\\n\\nResponse:\\nInside a house you can find a chair, a table and a microwave. Cars, clouds and parks are found outside of houses.',\n",
       " 'Instruction:\\nClassify the following as either dark-colored beers or light colored beers: porter, pilsner, stout, amber, lager\\n\\nResponse:\\nDark-colored beers: porter, stout, amber\\nLight-colored beers: pilsner, lager',\n",
       " 'Instruction:\\nGive me a bulleted list of the 5 highest mountains in the world and their respective heights in meters\\n\\nResponse:\\n* Mount Everest. Height: 8,849 meters\\n* K2. Height: 8,611 meters\\n* Kangchenjunga. Height: 8,586 meters\\n* Lhotse. Height: 8,516 meters\\n* Makalu. Height: 8,485 meters',\n",
       " 'Instruction:\\nWhich products apple sell?\\n\\nResponse:\\nApple sells variety of products. including watches, phones, laptops and computers.',\n",
       " \"Instruction:\\nWrite a short story about a person who discovers a hidden room in their house. The story should include a plot twist and a clear resolution at the end.\\n\\nResponse:\\nIt was going to be a long day.  With her brother-in-law out of town, Lisa had agreed to watch her niece Stella for the afternoon and the little girl was known to be a bit of a handful. Her plan had been to spend the afternoon at the park to let Stella run and climb, to wear her out a bit.  Unfortunately, this outing was foiled by the constant downpour of rain so Lisa resigned herself to a day inside with the tiny tyrant. Stella arrived early and excited to play.  Lisa decided to begin with a game of hide and seek, after all this could take up a good part of the morning without too much trouble.  Stella ran off to hide and Lisa sat quietly drinking coffee while calling out to the little girl, pretending to seek. Eventually she set off to find the little girl but soon she realized that something was wrong.  No matter where she looked, Stella was nowhere to be found. The house wasn't that large, making her disappearance even more perplexing.  Lisa had only recently moved into the home that she bought from her great aunt shortly before her death and she hasn't even moved out all of the existing furniture. Maybe Stella had gotten stuck somewhere behind the large wardrobe in the bedroom or she had climbed up into a cupboard in the laundry room.  Panic was starting to settle in as she moved the wardrobe further from the wall, where only a small child could have hidden before.  Suddenly, saw a small crack in the wall, and then realized it was a small door that she never knew was there.  The door was slightly ajar and she eventually moved the wardrobe enough to open the door and climb inside. What was this place?  The entrance opened up to reveal a small room that Lisa never knew existed!  It was full of treasure, gold bars and jewels.  Stella sat in the middle of the room quietly playing with the treasure, unaware of the immense value she was surrounded by.  Lisa had known her aunt was a secretive woman but this was an incredible find and would change her life forever.  Stella's visit was the good luck charm she needed to unlock this bounty and she would be forever grateful to the little girl!  Time to call her brother-in-law to thank him for letting Stella visit.\",\n",
       " 'Instruction:\\nList 6 different types of rain in Seattle\\n\\nResponse:\\n1. Mist\\n2. Drizzle\\n3. Sleet\\n4. Downpour\\n5. Freezing Rain\\n6. Sun Shower',\n",
       " \"Instruction:\\nWhat is investment banking?\\n\\nResponse:\\nInvestment banking pertains to certain activities of a financial services company or a corporate division that consist in advisory-based financial transactions on behalf of individuals, corporations, and governments. Traditionally associated with corporate finance, such a bank might assist in raising financial capital by underwriting or acting as the client's agent in the issuance of debt or equity securities. An investment bank may also assist companies involved in mergers and acquisitions (M&A) and provide ancillary services such as market making, trading of derivatives and equity securities, FICC services (fixed income instruments, currencies, and commodities) or research (macroeconomic, credit or equity research). Most investment banks maintain prime brokerage and asset management departments in conjunction with their investment research businesses. As an industry, it is broken up into the Bulge Bracket (upper tier), Middle Market (mid-level businesses), and boutique market (specialized businesses).\\n\\nUnlike commercial banks and retail banks, investment banks do not take deposits.\",\n",
       " 'Instruction:\\nI started a new company named Greystone Inc. What do we do?\\n\\nResponse:\\n- Investment banking for weird guys only\\n- Aerospace consulting\\n- Pasta and pasta accessory global logistics\\n- Political lobbying for the mining industry',\n",
       " \"Instruction:\\nTell me whether or not these foods are on EWG's dirty dozen list\\n\\nResponse:\\navocados, kiwi, pairs, blueberries, green beans, kale, cabbage\",\n",
       " 'Instruction:\\nHow much music theory knowledge is required to compose music?\\n\\nResponse:\\nTechnically speaking, very little music theory knowledge is “required” to compose music. Music theory is, essentially, what musicians have learned over the course of several hundred years about how to write music that is interesting and sounds good. In other words, music theory is there to help you, not hold you back. \\n\\nWhen you learn music theory, what often happens is that you expand your broader understanding of music, which can be a very helpful safety net. The more music theory you know, the easier you’ll be able to distinguish between the good ideas and the not-so-good. You need to know the rules before you can break them. You need to be able to write by the book before you throw the book away. If not, you run the risk of writing music that’s not nearly as clever as you think it is, that tries to be daring and experimental but ends up just being dull and vanilla. And frankly, I just don’t see the value in ignoring all the work that centuries worth of musicians have done into knowing how music works. Putting the time into learning and really understanding it can only make you a better musician and a better composer.\\n\\nSo, that’s my answer. Learn at least as much theory as you need to know to understand the rules you want to break.',\n",
       " 'Instruction:\\nCategorize each of the following instruments as either string or keyboard: Guitar, Violin, piano, harmonium, cello, accordion, banjo\\n\\nResponse:\\nGuitar - String\\nViolin - String\\npiano - keyboard\\nharmonium - keyboard\\ncello - string\\naccordion - keyboard\\nbanjo - string',\n",
       " 'Instruction:\\nWhat is the tallest mountain in the continental US?\\n\\nResponse:\\nMt. Whitney, which is 14500 ft,  is the tallest mountain in the continental US. Although if we were to include the state of Alaska, then the tallest mountain is actually Mt Denali, which is 20,320 ft. Mt. Whitney is actually only the 17th tallest mountain in all of the US, where the tallest 1-16 are all mountains in Alaska.',\n",
       " \"Instruction:\\nWhat are some of the best comedy movies of the 1980's?\\n\\nResponse:\\nSome of the best movies released in the 1980's are The Breakfast Club, The Goonies, Sixteen Candles, Ghostbusters and Back to the Future.\",\n",
       " 'Instruction:\\nIn golf what do the Americans call an albatross\\n\\nResponse:\\nDouble Eagle',\n",
       " 'Instruction:\\nWhat are common ingredients of a full english breakfast?\\n\\nResponse:\\nBacon, eggs, sausages, beans, toast, mushrooms, tomatoes. Some people also include black pudding and hash browns.\\nEggs are commonly fried or scrambled.',\n",
       " 'Instruction:\\nPlan for a three day road trip for May long weekend from Westfield, New Jersey\\n\\nResponse:\\nMay 26: Drive to Montreal from Westfield, NJ. Time taken  6 hrs. Stay there overnight\\nMay 27:  have a quick breakfast..checkout and drive to Mount Tremblant. Time: 90 minutes\\nMay 27: Hike Grand Brule ( red path) on the way up and green path on the way down\\nMay 27: Stroll around the Tremblant village\\nMay 28: Drive to Quebec City. Time taken: 4 hrs\\nMay 28: Explore the city, aquarium and go for wildlife watching\\nMay 29: Drive to Montreal. Spend time exploring the city\\nMay 30: Drive back to Westfield, New Jersey',\n",
       " 'Instruction:\\nHow do you operate a car with a manual transmission?\\n\\nResponse:\\nThrough a combination of a shifter and three pedals: gas, brake, and clutch. Press down the clutch pedal with one foot, and the brake with your other foot first and then turn on the engine of the car. It is recommended to shift to neutral immediately after turning on your car and prior to departing. To shift between one of the engaged gears, typically marked 1, 2, 3, 4, 5 N (for neutral) and R (for reverse), press down on the clutch all the way to the floor and move the shifter to the desired location. Once the car is on and you\\'re in neutral if you want to move forward, press and hold the clutch pedal to the floor and move the shifter to the \"1\" position. Slowly disengage the clutch pedal partially, and while disengaging slowly start to press down on the gas pedal. After gradually pressing more on the gas pedal, slowly remove your foot from the clutch entirely. This will start you in forward motion, and you will be restricted to the speed limit of 1st gear. You can track this limit through the RPM (revolutions per minute) gauge on the dashboard of your car. Typically you want to keep the RPMs between 1500-4000. If the RPMs start to decrease to 1500-2000 that is a sign you want to shift from a higher gear to a lower gear (i.e. 2nd gear to 1st gear), and as the RPMs increase to 4000, that is an indication you want to shift to a higher gear (i.e. 2nd gear to 3rd gear).',\n",
       " 'Instruction:\\nWhat is the Research Collaboratory for Structural Bioinformatics Protein Data Bank (RCSB PDB)?\\n\\nResponse:\\nThe Research Collaboratory for Structural Bioinformatics Protein Data Bank (RCSB PDB) is a database that provides a wealth of information about the 3D structures of proteins, nucleic acids, and other macromolecules. The database contains experimentally determined atomic coordinates for a large number of macromolecules, which can be used to study their structures, functions, and interactions. The RCSB PDB is widely used in genomics research and drug discovery, as it provides a valuable resource for understanding the structural basis of many biological processes and for designing new drugs that target specific macromolecules.\\n\\nIn addition to the atomic coordinates, the RCSB PDB contains a wealth of additional information about each macromolecule, including experimental methods used for structure determination, citations to relevant scientific literature, and information about biological function, sequence, and homology. The database also provides a variety of tools and resources for visualizing, analyzing, and downloading structural data, including a web-based viewer that allows users to interactively explore the 3D structures of macromolecules.',\n",
       " 'Instruction:\\nWhat are 5 potential uses for an empty La Croix can?\\n\\nResponse:\\n1. Make your bike sound like it has an engine by wrapping the can around the back tire.\\n2. A percussion instrument to play along with friends in a jam session.  You could just crinkle it, hit it with a pen, or fill it with sand or debris and shake it.  \\n3. A baking tool.  You can used the bottom of the can to stamp out perfectly circle, uniform cookies from a rolled-out sheet of cookie dough.\\n4. A field razor.  Tear the can carefully to create an effective cutting device for emergency use.\\n5. A make shift ball to throw around with friends at the park. An empty can could be a fun projectile to use in a friendly game of 3 Flies Up.',\n",
       " 'Instruction:\\nWhat is the name of the Winslow\\'s nerdy next-door neighbor on the TV show \"Family Matters\"?\\n\\nResponse:\\nSteve Urkel',\n",
       " \"Instruction:\\nWhy are so many US Hollywood films made in the state of Georgia?\\n\\nResponse:\\nWhile film in the United States as an audience artform started in New York it moved to Los Angeles for the stated reason of longer and sunnier days.  Another part of the story was a patent dispute in 1898 between Thomas Edison and his patent for the Kinetograph.  Edison stated that he effectively had a say in how films were made and wanted royalties for their use.  Moving from New York near where Edison was based to Los Angeles was a simple way to grow the industry and distance themselves from a patent war.  \\n\\nThis mobility at the start of the modern film era due to costs continued through the 1960's and 1970's with westerns being shot in Spain.  The 1980's and 1990's continued this trend primarily shooting in Canada or Mexico.  At the turn of the century state legislators in the United States started provided steep tax rebates.  The practical outworking of this is studios are encouraged to hire local talent and use local services when producing their film.  The ratios for these rebates is fairly complicated and have created a new industry of tax professionals serving the film industry.\\n\\nSo then why Georgia?  Georgia currently provides one of the highest incentive structures at 20% with minimal restrictions on talent and a very low minimum budget of $500,000.\",\n",
       " \"Instruction:\\nWhat are some tools that every homeowner should have?\\n\\nResponse:\\nThere is a tool designed for almost every challenge a homeowner will face, but purchasing every tool could prove to be cost prohibitive, especially if they are highly specialized for tasks that may occur infrequently.  It's best to have a general set of tools that have a wide variety of uses, including a hammer, a set of screwdrivers both flat and philips, a tape measure, a level, a stud finder, and a utility knife. A battery powered drill and impact driver can also save time, and make mounting projects easier.\",\n",
       " 'Instruction:\\nWhat is an apple?\\n\\nResponse:\\nAn apple is an edible fruit produced by an apple tree. Apple trees are cultivated worldwide and are the most widely grown species in the genus Malus.',\n",
       " \"Instruction:\\nwrite a short essay on California wild fire\\n\\nResponse:\\nCalifornia is known for its hot, dry summers, which increase the risk of wildfires. Every year, the state experiences dozens of fires, which can be devastating to both the environment and people's homes and businesses.\\n\\nIn recent years, California has seen some of the worst wildfires in its history, with tens of thousands of acres of land destroyed and hundreds of homes lost. These fires are often started by a combination of high temperatures, dry conditions, and strong winds, which can quickly spread flames and make them difficult to control.\\n\\nThe effects of these fires are felt not just by those directly impacted, but by everyone in the state. Smoke and ash from the fires can cause respiratory problems and other health issues, and the destruction of habitats can harm wildlife populations and disrupt entire ecosystems.\\n\\nDespite the challenges, California has made significant progress in fighting wildfires in recent years. The state has invested in new technologies and equipment to help firefighters respond more quickly and effectively to fires, and has increased efforts to prevent fires from starting in the first place.\\n\\nWhile wildfires will likely always be a risk in California, the state's proactive approach to managing them gives hope that we can continue to protect people, wildlife, and the environment from their devastating effects.\",\n",
       " 'Instruction:\\nClassify each of the following as either a bird, animal, reptile or insect: tiger, heron, eagle, alligator, snake, spider, ant, dog, cat, rhinoceros, kingfisher, chameleon, hornet, butterfly\\n\\nResponse:\\nmammal- tiger, rhinoceros, dog, cat\\nbird- heron, kingfisher, eagle\\nreptile- snake, alligator, chameleon\\ninset- spider, ant, hornet, butterfly',\n",
       " 'Instruction:\\nWhat are some different things you should bring with you on a day hiking trip?\\n\\nResponse:\\nYou should bring water, a snack, sunscreen, hiking boots, a first aid kit and a cellphone',\n",
       " 'Instruction:\\nWhich is a species of fish? Sea dragon or Red bearded\\n\\nResponse:\\nSea dragon',\n",
       " 'Instruction:\\nCategorize where each of these household items belong: bed, couch, desk\\n\\nResponse:\\nA bed belongs in a bedroom, a couch belongs in a living area, a desk belongs in an office',\n",
       " 'Instruction:\\nSeparate the following suburbs into those that border, and do not border, the Brisbane River: Indooroopilly, Bulimba, St Lucia, Newstead, Wilston, West End, Toowong, Bowen Hills and, Wooloongabba.\\n\\nResponse:\\nSt Lucia, West End, Toowong, Bulimba and Newstead border the Brisbane River. Wilston, Wooloongabba, Indooroopilly and Bowen Hills are inland and do not border the Brisbane River.',\n",
       " 'Instruction:\\nWhat are AirPods?\\n\\nResponse:\\nAir Pods are an in ear headphone product made and sold by Apple. Their unique market differentiators are a software simulated spatial audio system and noise canceling features.',\n",
       " 'Instruction:\\nWhat is the difference between pets and cattle?\\n\\nResponse:\\nAlthough both are animals at the end of the day, however, the main difference comes partially in the form of perception and, historically, the relationship of humans with certain animals. Pets, e.g. dogs, cats, etc., are used more for companionship and not for food. On the contrary, cattle, e.g. cows, pigs, chickens, etc., are primarily raised for food, i.e. meat, milk, eggs, etc.',\n",
       " \"Instruction:\\nHow do I put a bouquet of fresh flowers in a vase?\\n\\nResponse:\\nIn order to put fresh flowers in a vase, follow these steps:\\n\\n1. Find a vase that it is the right size for the flowers. You can use water glasses here in a pinch. \\n2. Fill the vase to about two-thirds full with water. You can add a dash of bleach in the water as well, but it is not necessary. \\n3. Now, trim your flowers to the size of the vase. Cut the end of each flower in a diagonal cut. \\n4. Remove the leaves from the flowers. This will help to grow the flower without putting resources towards the leaves. Be sure to remove any leaves under the water line, since they can cause infections. \\n5. Arrange the flowers in the vase. You can adjust the positions until you are happy with the arrangement.\\n6. Place your vase in a shady spot and you're done!\",\n",
       " \"Instruction:\\nWhat should I do on a free afternoon in San Francisco?\\n\\nResponse:\\nYou can visit and take photos at San Francisco's landmarks such as Pier 39 or Golden Gate Bridge. If you enjoy walking outdoors, there are several large parks in the city. You can visit Golden Gate Park and the various attractions and museums located in the park. The Presidio is also a popular park where you can get some of the best views of Golden Gate Bridge.\",\n",
       " 'Instruction:\\nIdentify which instrument is string or woodwind: Janzi, Gemshorn\\n\\nResponse:\\nGemshorn is woodwind, Janzi is string.',\n",
       " 'Instruction:\\nIdentify which animal species is alive or extinct: Pliosaur, Marine Iguana\\n\\nResponse:\\nPliosaur is extinct, Marine Iguana is alive.',\n",
       " 'Instruction:\\nClassify each of the following as either a title by Isaac Asimov or Jules Verne: Pebble in the Sky, The Stars, Like Dust, Foundation, The Robots of Dawn, The Naked Sun, Around the World in Eighty Days, From the Earth to the Moon, Martin Paz, Journey to the Centre of the Earth, A Drama in the Air\\n\\nResponse:\\nIsaac Asimov: Pebble in the Sky, The Stars, Like Dust, Foundation, The Robots of Dawn, The Naked Sun\\nJules Verne: Around the World in Eighty Days, From the Earth to the Moon, Martin Paz, Journey to the Centre of the Earth, A Drama in the Air',\n",
       " 'Instruction:\\nWat id DNA annotation?\\n\\nResponse:\\nDNA annotation or genome annotation is the process of identifying the locations of genes and all of the coding regions in a genome and determining what those genes do. An annotation (irrespective of the context) is a note added by way of explanation or commentary. Once a genome is sequenced, it needs to be annotated to make sense of it. Genes in a eukaryotic genome can be annotated using various annotation tools such as FINDER. A modern annotation pipeline can support a user-friendly web interface and software containerization such as MOSGA. Modern annotation pipelines for prokaryotic genomes are Bakta, Prokka and PGAP.\\n\\nFor DNA annotation, a previously unknown sequence representation of genetic material is enriched with information relating genomic position to intron-exon boundaries, regulatory sequences, repeats, gene names and protein products. This annotation is stored in genomic databases such as Mouse Genome Informatics, FlyBase, and WormBase. Educational materials on some aspects of biological annotation from the 2006 Gene Ontology annotation camp and similar events are available at the Gene Ontology website.\\n\\nThe National Center for Biomedical Ontology develops tools for automated annotation of database records based on the textual descriptions of those records.\\n\\nAs a general method, dcGO has an automated procedure for statistically inferring associations between ontology terms and protein domains or combinations of domains from the existing gene/protein-level annotations.',\n",
       " \"Instruction:\\nWho were Jaehaerys I Targaryen's children?\\n\\nResponse:\\nPrince Aegon, Princess Daenerys, Prince Aemon, Prince Baelon, Princess Alyssa, Septa Maegelle, Archmaester Vaegon, Princess Daella, Princess Saera, Princess Viserra, Prince Gaemon, Prince Valerion, Princess Gael\"]"
      ]
     },
     "execution_count": 14,
     "metadata": {},
     "output_type": "execute_result"
    }
   ],
   "source": [
    "data"
   ]
  },
  {
   "cell_type": "code",
   "execution_count": null,
   "metadata": {},
   "outputs": [],
   "source": []
  },
  {
   "cell_type": "code",
   "execution_count": null,
   "metadata": {},
   "outputs": [],
   "source": []
  },
  {
   "cell_type": "code",
   "execution_count": null,
   "metadata": {},
   "outputs": [],
   "source": []
  },
  {
   "cell_type": "code",
   "execution_count": null,
   "metadata": {},
   "outputs": [],
   "source": []
  },
  {
   "cell_type": "code",
   "execution_count": null,
   "metadata": {},
   "outputs": [],
   "source": []
  },
  {
   "cell_type": "code",
   "execution_count": null,
   "metadata": {},
   "outputs": [],
   "source": []
  }
 ],
 "metadata": {
  "kernelspec": {
   "display_name": "llm-env",
   "language": "python",
   "name": "python3"
  },
  "language_info": {
   "codemirror_mode": {
    "name": "ipython",
    "version": 3
   },
   "file_extension": ".py",
   "mimetype": "text/x-python",
   "name": "python",
   "nbconvert_exporter": "python",
   "pygments_lexer": "ipython3",
   "version": "3.10.14"
  }
 },
 "nbformat": 4,
 "nbformat_minor": 2
}
